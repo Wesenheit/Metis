{
 "cells": [
  {
   "cell_type": "code",
   "execution_count": 1,
   "id": "3c44308b",
   "metadata": {},
   "outputs": [],
   "source": [
    "import tensorflow as tf\n",
    "import numpy as np\n",
    "import matplotlib.pyplot as plt"
   ]
  },
  {
   "cell_type": "code",
   "execution_count": 2,
   "id": "a2c181bd",
   "metadata": {},
   "outputs": [],
   "source": [
    "data=np.load('data.npz')\n",
    "temp=np.load('tem.npz')"
   ]
  },
  {
   "cell_type": "code",
   "execution_count": null,
   "id": "385802e8",
   "metadata": {},
   "outputs": [],
   "source": []
  }
 ],
 "metadata": {
  "kernelspec": {
   "display_name": "Python 3 (ipykernel)",
   "language": "python",
   "name": "python3"
  },
  "language_info": {
   "codemirror_mode": {
    "name": "ipython",
    "version": 3
   },
   "file_extension": ".py",
   "mimetype": "text/x-python",
   "name": "python",
   "nbconvert_exporter": "python",
   "pygments_lexer": "ipython3",
   "version": "3.9.7"
  }
 },
 "nbformat": 4,
 "nbformat_minor": 5
}
